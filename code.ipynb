{
 "cells": [
  {
   "cell_type": "code",
   "execution_count": 2,
   "metadata": {},
   "outputs": [
    {
     "name": "stderr",
     "output_type": "stream",
     "text": [
      "C:\\Users\\THARUN\\AppData\\Local\\Temp\\ipykernel_10424\\2935990019.py:30: FutureWarning: You are using `torch.load` with `weights_only=False` (the current default value), which uses the default pickle module implicitly. It is possible to construct malicious pickle data which will execute arbitrary code during unpickling (See https://github.com/pytorch/pytorch/blob/main/SECURITY.md#untrusted-models for more details). In a future release, the default value for `weights_only` will be flipped to `True`. This limits the functions that could be executed during unpickling. Arbitrary objects will no longer be allowed to be loaded via this mode unless they are explicitly allowlisted by the user via `torch.serialization.add_safe_globals`. We recommend you start setting `weights_only=True` for any use case where you don't have full control of the loaded file. Please open an issue on GitHub for any issues related to this experimental feature.\n",
      "  model.load_state_dict(torch.load(model_path))\n"
     ]
    },
    {
     "name": "stdout",
     "output_type": "stream",
     "text": [
      "Predicted temperature for 2024-10-20: 23.32°C\n"
     ]
    }
   ],
   "source": [
    "import torch\n",
    "import torch.nn as nn\n",
    "import numpy as np\n",
    "from sklearn.preprocessing import StandardScaler\n",
    "\n",
    "# Define the model architecture (same as in the training script)\n",
    "class WeatherPredictionModel(nn.Module):\n",
    "    def __init__(self, input_size):\n",
    "        super(WeatherPredictionModel, self).__init__()\n",
    "        self.fc1 = nn.Linear(input_size, 128)\n",
    "        self.bn1 = nn.BatchNorm1d(128)\n",
    "        self.fc2 = nn.Linear(128, 64)\n",
    "        self.bn2 = nn.BatchNorm1d(64)\n",
    "        self.fc3 = nn.Linear(64, 32)\n",
    "        self.fc4 = nn.Linear(32, 1)\n",
    "        self.dropout = nn.Dropout(0.3)\n",
    "\n",
    "    def forward(self, x):\n",
    "        x = torch.relu(self.bn1(self.fc1(x)))\n",
    "        x = self.dropout(x)\n",
    "        x = torch.relu(self.bn2(self.fc2(x)))\n",
    "        x = self.dropout(x)\n",
    "        x = torch.relu(self.fc3(x))\n",
    "        x = self.fc4(x)\n",
    "        return x\n",
    "\n",
    "# Load the model weights\n",
    "def load_model(model_path, input_size):\n",
    "    model = WeatherPredictionModel(input_size)\n",
    "    model.load_state_dict(torch.load(model_path))\n",
    "    model.eval()  # Set to evaluation mode\n",
    "    return model\n",
    "\n",
    "# Prediction function\n",
    "def predict_temperature(model, scaler, year, month, day):\n",
    "    # Create cyclical features for the input date\n",
    "    day_sin = np.sin(2 * np.pi * day / 31)\n",
    "    day_cos = np.cos(2 * np.pi * day / 31)\n",
    "    month_sin = np.sin(2 * np.pi * month / 12)\n",
    "    month_cos = np.cos(2 * np.pi * month / 12)\n",
    "    \n",
    "    # Input features\n",
    "    input_data = [[year, day_sin, day_cos, month_sin, month_cos]]\n",
    "    \n",
    "    # Scale the input features\n",
    "    input_data_scaled = scaler.transform(input_data)\n",
    "    input_tensor = torch.tensor(input_data_scaled, dtype=torch.float32)\n",
    "    \n",
    "    # Make prediction\n",
    "    with torch.no_grad():\n",
    "        prediction = model(input_tensor)\n",
    "    return prediction.item()\n",
    "\n",
    "# Example usage in another program\n",
    "if __name__ == \"__main__\":\n",
    "    # Initialize the scaler (use the same scaler used during training)\n",
    "    scaler = StandardScaler()\n",
    "    scaler.mean_ = np.array([2019.5, 0, 0, 0, 0])  # Set the same mean values used in training\n",
    "    scaler.scale_ = np.array([2.87, 0.72, 0.72, 0.50, 0.50])  # Set the same scale values used in training\n",
    "    \n",
    "    # Load the model\n",
    "    model_path = r\"C:\\Users\\THARUN\\wheather prediction\\best_weather_prediction_model.pt\"\n",
    "    input_size = 5  # Adjust based on your input features (Year, Day_sin, Day_cos, Month_sin, Month_cos)\n",
    "    model = load_model(model_path, input_size)\n",
    "    \n",
    "    # Example prediction for a specific date\n",
    "    year = int(input(\"Enter the year:\"))\n",
    "    month = int(input(\"Enter the month:\"))\n",
    "    day = int(input(\"Enter the date:\"))\n",
    "    predicted_temp = predict_temperature(model, scaler, year, month, day)\n",
    "    print(f'Predicted temperature for {year}-{month}-{day}: {predicted_temp:.2f}°C')\n"
   ]
  },
  {
   "cell_type": "code",
   "execution_count": null,
   "metadata": {},
   "outputs": [],
   "source": []
  },
  {
   "cell_type": "code",
   "execution_count": null,
   "metadata": {},
   "outputs": [],
   "source": []
  }
 ],
 "metadata": {
  "kernelspec": {
   "display_name": "YOLOV11",
   "language": "python",
   "name": "python3"
  },
  "language_info": {
   "codemirror_mode": {
    "name": "ipython",
    "version": 3
   },
   "file_extension": ".py",
   "mimetype": "text/x-python",
   "name": "python",
   "nbconvert_exporter": "python",
   "pygments_lexer": "ipython3",
   "version": "3.10.15"
  }
 },
 "nbformat": 4,
 "nbformat_minor": 4
}
